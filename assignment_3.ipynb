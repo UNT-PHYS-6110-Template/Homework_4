{
 "cells": [
  {
   "cell_type": "markdown",
   "metadata": {},
   "source": [
    "# Assignment 3\n",
    "One of the most famous algorithms to sample microstates according to the canonical ensemble was proposed by Arianna Rosenbluth et al in 1952. This was probably the first scientific simulations performed on a computer.  In this assignment you will implement the basic steps of a Monte Carlo algorithm to simulate the same problem as in the previous assignment (i.e. N noninteracting distinguishable two-levels systems, with excited energy $\\epsilon$). The algorithm works as follows:  \n",
    "*\tSelect one initial configuration of the system. For your application, you need to specify a value of $N$, the temperature $T$, and initialize each particle in either the ground state or the excited state. \n",
    "*\tMake a trial change. For your application, select one random particle and switch its state (from ground state to excited or vice-versa). \n",
    "*\tIf the energy change associated with the trial is negative (i.e. the selected particle was in the excited state and goes into the ground state), you accept the step. \n",
    "*\tIf the energy change is positive (i.e. the selected particle was in the ground state and goes in the excited state), you accept the step with a probability $w=e^{-\\beta\\epsilon}$. To do so, you generate a random number $r$ uniformly distributed in the unit interval. If $r\\le w$, accept the new microstate; otherwise, retain the previous microstate. NOTE: if the trial move is NOT accepted, the previous microstate needs to be counted again.\n",
    "*\tRepeat the previous three steps many times (you may want to make sure that the number of steps is long enough so that the results are converged). \n",
    "\n"
   ]
  },
  {
   "cell_type": "markdown",
   "metadata": {},
   "source": [
    "Import useful modules"
   ]
  },
  {
   "cell_type": "code",
   "execution_count": 1,
   "metadata": {},
   "outputs": [],
   "source": [
    "import numpy as np\n",
    "import matplotlib.pyplot as plt"
   ]
  },
  {
   "cell_type": "markdown",
   "metadata": {},
   "source": [
    "Here we set the simulation parameters. "
   ]
  },
  {
   "cell_type": "code",
   "execution_count": 10,
   "metadata": {},
   "outputs": [],
   "source": [
    "n_particles=10 # starting with a small number of particles help debudding your code, as you can print the arrays more easily\n",
    "epsilon=1.0 # this is a real number that controls the scale of the energy. Whenever playing with toy models, it is a good idea to set to unity as many parameters as possible\n",
    "kb=1.0 # here we will assume that the choice above for the energy scale is consistent with a unit value of the boltzmann constant\n",
    "particle_states=np.array([0, 1]) # these are the states mentioned in the problem\n",
    "n_particle_states=particle_states.size # the size attribute of a numpy array can be convenient"
   ]
  },
  {
   "cell_type": "markdown",
   "metadata": {},
   "source": [
    "To simplify our work, let's start by coding a single simulation at one fixed temperature. Later on, we could repeat the same simulation for a range of temperatures, in order to extract the behavior of $E(T)$"
   ]
  },
  {
   "cell_type": "code",
   "execution_count": 26,
   "metadata": {},
   "outputs": [],
   "source": [
    "T=1.0 # let's choose a value of T close to epsilon\n",
    "beta=1./kb/T\n",
    "acceptance_probability=np.exp(-beta*epsilon) # once T is specified, the MC acceptance probability is fixed"
   ]
  },
  {
   "cell_type": "markdown",
   "metadata": {},
   "source": [
    "Here we need to generate an initial state for the system. We could generate a random state (e.g. in the same way we did random sampling in assignment 2) or we could start from a very symmetric state (e.g. where all the particles are in the ground state or all the particles are in the excited state). Which choice do you think is more efficient?"
   ]
  },
  {
   "cell_type": "code",
   "execution_count": 14,
   "metadata": {},
   "outputs": [],
   "source": [
    "microstate= # use a numpy function to create an array with a 0 or 1 for each particle (the lenght of the array needs to be n_particles)"
   ]
  },
  {
   "cell_type": "markdown",
   "metadata": {},
   "source": [
    "If you want to check the microstate, print it!"
   ]
  },
  {
   "cell_type": "code",
   "execution_count": 15,
   "metadata": {},
   "outputs": [
    {
     "name": "stdout",
     "output_type": "stream",
     "text": [
      "[1 0 1 0 1 1 0 0 0 1]\n"
     ]
    }
   ],
   "source": [
    "print(microstate)"
   ]
  },
  {
   "cell_type": "code",
   "execution_count": 57,
   "metadata": {},
   "outputs": [
    {
     "ename": "SyntaxError",
     "evalue": "invalid syntax (<ipython-input-57-74cb81022b38>, line 15)",
     "output_type": "error",
     "traceback": [
      "\u001b[0;36m  File \u001b[0;32m\"<ipython-input-57-74cb81022b38>\"\u001b[0;36m, line \u001b[0;32m15\u001b[0m\n\u001b[0;31m    particle= # random integer between 0 and n\u001b[0m\n\u001b[0m                                              ^\u001b[0m\n\u001b[0;31mSyntaxError\u001b[0m\u001b[0;31m:\u001b[0m invalid syntax\n"
     ]
    }
   ],
   "source": [
    "n_samples=10000 # the convergence of the results will depend on this parameter\n",
    "microstate_energies=np.zeros(n_samples) # here we create the container for the Monte Carlo microstates\n",
    "microstate_energies[0]=np.sum(microstate)*epsilon # store the energy of the first microstate\n",
    "#\n",
    "# Now we need to implement the iterations of the MC sampling\n",
    "# by using a python for loop, we can repeat steps 2-4 n_samples times\n",
    "#\n",
    "for i in np.arange(n_samples):\n",
    "    #\n",
    "    # first we make a trial change in the microstate\n",
    "    # we select a random particle and switch its state\n",
    "    # to choose an integer number from 0 to n we can use \n",
    "    # the np.random.randint(0,n) function\n",
    "    #\n",
    "    particle= # random integer between 0 and n\n",
    "    #\n",
    "    # we switch the state of the specified particle\n",
    "    #\n",
    "    microstate[particle]=1-microstate[particle]\n",
    "    #\n",
    "    # we look at the new energy and compare it with the old one\n",
    "    #\n",
    "    new_energy=np.sum(microstate)*epsilon\n",
    "    old_energy=microstate_energies[i-1]\n",
    "    #\n",
    "    # now we need to check if the new state has lower or higher energy\n",
    "    # to do so we can use the python if construct \n",
    "    # if <conditional expression> : \n",
    "    # where a conditional expression is a logical expression such as a > b, a <= b, or a == b\n",
    "    # note that to check if two things are equal you need two =, as a single = is an assignment operator\n",
    "    #\n",
    "    if  : # if the new energy is higher than the old enerdy\n",
    "        r= # pick a random numer between 0 and 1, you can use the np.random.random() function with no arguments\n",
    "        if : # if the random number is lower than the acceptance threshold accept the step and store the energy\n",
    "            microstate_energies[i]=new_energy\n",
    "        else: # otherwise, switch back the particle state to the one before the trial step\n",
    "            microstate[particle]=1-microstate[particle]\n",
    "            microstate_energies[i]=old_energy # and save the old energy\n",
    "    else: # if the new energy is lower than the old energy, accept the step and store the energy\n",
    "        microstate_energies[i]=new_energy"
   ]
  },
  {
   "cell_type": "markdown",
   "metadata": {},
   "source": [
    "in the following you can learn more about the use of the suggested functions, e.g. using the help() function"
   ]
  },
  {
   "cell_type": "code",
   "execution_count": null,
   "metadata": {},
   "outputs": [
    {
     "name": "stdout",
     "output_type": "stream",
     "text": [
      "Help on built-in function randint:\n",
      "\n",
      "randint(...) method of mtrand.RandomState instance\n",
      "    randint(low, high=None, size=None, dtype='l')\n",
      "    \n",
      "    Return random integers from `low` (inclusive) to `high` (exclusive).\n",
      "    \n",
      "    Return random integers from the \"discrete uniform\" distribution of\n",
      "    the specified dtype in the \"half-open\" interval [`low`, `high`). If\n",
      "    `high` is None (the default), then results are from [0, `low`).\n",
      "    \n",
      "    Parameters\n",
      "    ----------\n",
      "    low : int\n",
      "        Lowest (signed) integer to be drawn from the distribution (unless\n",
      "        ``high=None``, in which case this parameter is one above the\n",
      "        *highest* such integer).\n",
      "    high : int, optional\n",
      "        If provided, one above the largest (signed) integer to be drawn\n",
      "        from the distribution (see above for behavior if ``high=None``).\n",
      "    size : int or tuple of ints, optional\n",
      "        Output shape.  If the given shape is, e.g., ``(m, n, k)``, then\n",
      "        ``m * n * k`` samples are drawn.  Default is None, in which case a\n",
      "        single value is returned.\n",
      "    dtype : dtype, optional\n",
      "        Desired dtype of the result. All dtypes are determined by their\n",
      "        name, i.e., 'int64', 'int', etc, so byteorder is not available\n",
      "        and a specific precision may have different C types depending\n",
      "        on the platform. The default value is 'np.int'.\n",
      "    \n",
      "        .. versionadded:: 1.11.0\n",
      "    \n",
      "    Returns\n",
      "    -------\n",
      "    out : int or ndarray of ints\n",
      "        `size`-shaped array of random integers from the appropriate\n",
      "        distribution, or a single such random int if `size` not provided.\n",
      "    \n",
      "    See Also\n",
      "    --------\n",
      "    random.random_integers : similar to `randint`, only for the closed\n",
      "        interval [`low`, `high`], and 1 is the lowest value if `high` is\n",
      "        omitted. In particular, this other one is the one to use to generate\n",
      "        uniformly distributed discrete non-integers.\n",
      "    \n",
      "    Examples\n",
      "    --------\n",
      "    >>> np.random.randint(2, size=10)\n",
      "    array([1, 0, 0, 0, 1, 1, 0, 0, 1, 0])\n",
      "    >>> np.random.randint(1, size=10)\n",
      "    array([0, 0, 0, 0, 0, 0, 0, 0, 0, 0])\n",
      "    \n",
      "    Generate a 2 x 4 array of ints between 0 and 4, inclusive:\n",
      "    \n",
      "    >>> np.random.randint(5, size=(2, 4))\n",
      "    array([[4, 0, 2, 1],\n",
      "           [3, 2, 2, 0]])\n",
      "\n"
     ]
    }
   ],
   "source": [
    "help(np.random.randint)\n",
    "# or help(np.random.random)"
   ]
  },
  {
   "cell_type": "markdown",
   "metadata": {},
   "source": [
    "We can plot the distribution of the energies from the MC sampling"
   ]
  },
  {
   "cell_type": "code",
   "execution_count": 54,
   "metadata": {},
   "outputs": [
    {
     "data": {
      "image/png": "[encoded data removed]",
      "text/plain": [
       "<Figure size 432x288 with 1 Axes>"
      ]
     },
     "metadata": {},
     "output_type": "display_data"
    }
   ],
   "source": [
    "plt.hist(microstate_energies)\n",
    "plt.show()"
   ]
  },
  {
   "cell_type": "markdown",
   "metadata": {},
   "source": [
    "But we can also look at the energies as a function of the MC steps. We can see that the microstate energy can go up and down and that several times the trial move is rejected and the microstate stays the same."
   ]
  },
  {
   "cell_type": "code",
   "execution_count": 58,
   "metadata": {},
   "outputs": [
    {
     "data": {
      "image/png": "[encoded data removed]",
      "text/plain": [
       "<Figure size 432x288 with 1 Axes>"
      ]
     },
     "metadata": {},
     "output_type": "display_data"
    }
   ],
   "source": [
    "plt.plot(microstate_energies[0:1000]) # by specifying these indexes we can print a limited part of the results\n",
    "plt.show()"
   ]
  },
  {
   "cell_type": "markdown",
   "metadata": {},
   "source": [
    "In a MC simulation we don't need to compute the partition function and the Boltzmann factors to compute the probability of a state. The algorithm already produces states according to the Boltzmann distribution, so to compute any expectation value we just need to average over the sampled microstates. Does your result agree with the analytic value?"
   ]
  },
  {
   "cell_type": "code",
   "execution_count": 62,
   "metadata": {},
   "outputs": [
    {
     "name": "stdout",
     "output_type": "stream",
     "text": [
      "3.7574\n"
     ]
    }
   ],
   "source": [
    "average_energy=np.average(microstate_energies)\n",
    "print(average_energy)"
   ]
  },
  {
   "cell_type": "markdown",
   "metadata": {},
   "source": [
    "Now, if the code above works, we can setup a for loop to repeat the MC simulation for a range of temperatures. NOTE that, at each temperature we need to recompute beta and the acceptance probability. At each temperature we also need to re-initialize the microstate and the microstate energies."
   ]
  },
  {
   "cell_type": "code",
   "execution_count": 63,
   "metadata": {},
   "outputs": [],
   "source": [
    "min_temperature=0.05\n",
    "max_temperature=2\n",
    "dt=0.2\n",
    "temperatures=np.arange(min_temperature,max_temperature,dt)\n",
    "n_temperatures=temperatures.size\n",
    "average_energies=np.zeros(n_temperatures)\n",
    "#\n",
    "n_samples=100000\n",
    "for j,T in enumerate(temperatures):\n",
    "    beta=1./kb/T\n",
    "    acceptance_probability=np.exp(-beta*epsilon)\n",
    "    microstate_energies=np.zeros(n_samples)\n",
    "    microstate= # the same thing you implemented above\n",
    "    microstate_energies[0]=np.sum(microstate)*epsilon\n",
    "    for i in np.arange(n_samples):\n",
    "        particle= # random integer between 0 and n\n",
    "        microstate[particle]=1-microstate[particle]\n",
    "        new_energy=np.sum(microstate)*epsilon\n",
    "        old_energy=microstate_energies[i-1]\n",
    "        if # here you can copy and paste the entire if block you used above\n",
    "           # pay attention to the indentation\n",
    "    average_energies[j]=np.average(microstate_energies)"
   ]
  },
  {
   "cell_type": "markdown",
   "metadata": {},
   "source": [
    "Plot the results as a function of temperature. You can compare to the analytic results, following what was done in the previous assignment. Are the results better than the random sampling? How can you improve their accuracy?"
   ]
  },
  {
   "cell_type": "code",
   "execution_count": 50,
   "metadata": {},
   "outputs": [
    {
     "data": {
      "image/png": "[encoded data removed]",
      "text/plain": [
       "<Figure size 432x288 with 1 Axes>"
      ]
     },
     "metadata": {},
     "output_type": "display_data"
    }
   ],
   "source": [
    "plt.plot(temperatures,average_energies)\n",
    "plt.show()"
   ]
  }
 ],
 "metadata": {
  "interpreter": {
   "hash": "be1e2b7871a64ab39a82a0b55ab540795e7bac7e4006ca97f55a69b71e621e99"
  },
  "kernelspec": {
   "display_name": "Python 3.6.3 64-bit ('idp': conda)",
   "name": "python3"
  },
  "language_info": {
   "codemirror_mode": {
    "name": "ipython",
    "version": 3
   },
   "file_extension": ".py",
   "mimetype": "text/x-python",
   "name": "python",
   "nbconvert_exporter": "python",
   "pygments_lexer": "ipython3",
   "version": "3.6.3"
  },
  "orig_nbformat": 4
 },
 "nbformat": 4,
 "nbformat_minor": 2
}
